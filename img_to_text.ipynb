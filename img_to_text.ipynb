{
 "cells": [
  {
   "cell_type": "code",
   "execution_count": 57,
   "metadata": {},
   "outputs": [],
   "source": [
    "import torch\n",
    "import torch.nn as nn\n",
    "import torchvision.models as models\n",
    "import torchvision.transforms as transforms\n",
    "from PIL import Image\n",
    "\n",
    "from text_processing import tokenize_text, untokenize, pad_text, Toks"
   ]
  },
  {
   "cell_type": "code",
   "execution_count": 55,
   "metadata": {
    "collapsed": true
   },
   "outputs": [],
   "source": [
    "gpu_id = 0\n",
    "BATCH_SIZE = 3\n",
    "model_path = \"./models/\"\n",
    "test_model_fname = \"img_to_txt_state.tar\"\n",
    "test_folder = \"./test_img/\"\n",
    "\n",
    "device = torch.device('cuda:{}'.format(gpu_id)) \\\n",
    "    if torch.cuda.is_available() else torch.device('cpu')"
   ]
  },
  {
   "cell_type": "code",
   "execution_count": 6,
   "metadata": {
    "collapsed": true
   },
   "outputs": [],
   "source": [
    "class NopModule(torch.nn.Module):\n",
    "    def __init__(self):\n",
    "        super(NopModule, self).__init__()\n",
    "    \n",
    "    def forward(self, input):\n",
    "        return input\n",
    "\n",
    "def get_cnn():\n",
    "    inception = models.inception_v3(pretrained=True)  # pretrain on GoogleNet\n",
    "    inception.fc = NopModule()\n",
    "    inception = inception.to(device)\n",
    "    inception.eval()\n",
    "\n",
    "    normalize = transforms.Normalize(mean=[0.485, 0.456, 0.406],\n",
    "            std=[0.229, 0.224, 0.225])\n",
    "    trans = transforms.Compose([\n",
    "                transforms.Resize(299),\n",
    "                transforms.CenterCrop(299),\n",
    "                transforms.ToTensor(),\n",
    "                normalize,\n",
    "            ])\n",
    "    return inception, trans"
   ]
  },
  {
   "cell_type": "markdown",
   "metadata": {},
   "source": [
    "Paper: The image feature is extracted from the second last layer of the Inception-v3 [51] CNN pre-trained on ImageNet [45]."
   ]
  },
  {
   "cell_type": "code",
   "execution_count": 17,
   "metadata": {
    "collapsed": true
   },
   "outputs": [],
   "source": [
    "class ImgEmb(nn.Module):\n",
    "    def __init__(self, input_size, hidden_size):\n",
    "        super(ImgEmb, self).__init__()\n",
    "        self.input_size = input_size\n",
    "        self.hidden_size = hidden_size\n",
    "        \n",
    "        self.mlp = nn.Linear(input_size, hidden_size)\n",
    "        self.relu = nn.ReLU()\n",
    "    \n",
    "    def forward(self, input):\n",
    "        res = self.relu(self.mlp(input))\n",
    "        return res"
   ]
  },
  {
   "cell_type": "code",
   "execution_count": 18,
   "metadata": {
    "collapsed": true
   },
   "outputs": [],
   "source": [
    "class Decoder(nn.Module):\n",
    "    def __init__(self, input_size, hidden_size, output_size):\n",
    "        super(Decoder, self).__init__()\n",
    "        self.hidden_size = hidden_size\n",
    "        self.input_size = input_size\n",
    "        \n",
    "        self.embedding = nn.Embedding(input_size, hidden_size)\n",
    "        self.emb_drop = nn.Dropout(0.5)\n",
    "        self.gru = nn.GRU(hidden_size, hidden_size, batch_first=True)\n",
    "        self.gru_drop = nn.Dropout(0.5)\n",
    "        self.mlp = nn.Linear(hidden_size, output_size)\n",
    "        self.logsoftmax = nn.LogSoftmax(dim=2)\n",
    "    \n",
    "    def forward(self, input_, hidden_in):\n",
    "        emb = self.embedding(input_)\n",
    "        out, hidden = self.gru(self.emb_drop(emb), hidden_in)\n",
    "        out = self.mlp(self.gru_drop(out))\n",
    "        out = self.logsoftmax(out)\n",
    "        return out, hidden"
   ]
  },
  {
   "cell_type": "code",
   "execution_count": 19,
   "metadata": {},
   "outputs": [],
   "source": [
    "def build_model(dec_vocab_size, img_feat_size = 2048, \n",
    "        hid_size=512, loaded_state = None):\n",
    "    enc = ImgEmb(img_feat_size, hid_size)\n",
    "    dec = Decoder(dec_vocab_size, hid_size, dec_vocab_size)\n",
    "    if loaded_state is not None:\n",
    "        enc.load_state_dict(loaded_state['enc'])\n",
    "        dec.load_state_dict(loaded_state['dec'])\n",
    "    enc = enc.to(device)\n",
    "    dec = dec.to(device)\n",
    "    return enc, dec"
   ]
  },
  {
   "cell_type": "code",
   "execution_count": 24,
   "metadata": {},
   "outputs": [],
   "source": [
    "def setup_test():\n",
    "    cnn, trans = get_cnn()\n",
    "    if torch.cuda.is_available():\n",
    "        loaded_state = torch.load(model_path + test_model_fname, \n",
    "                                  map_location=device)\n",
    "    else: \n",
    "        loaded_state = torch.load(model_path + test_model_fname, \n",
    "                                  map_location='cpu')\n",
    "    \n",
    "    dec_vocab_size = len(loaded_state['dec_idx_to_word'])  # 10,004\n",
    "    enc,dec = build_model(dec_vocab_size, loaded_state=loaded_state)\n",
    "    \n",
    "    return {'cnn': cnn, 'trans': trans, 'enc':enc, 'dec':dec, \n",
    "            'loaded_state':loaded_state}"
   ]
  },
  {
   "cell_type": "code",
   "execution_count": 33,
   "metadata": {},
   "outputs": [],
   "source": [
    "def has_image_ext(path):\n",
    "    IMG_EXTENSIONS = ['.jpg', '.jpeg', '.png', '.ppm', '.bmp', '.pgm', '.tif']\n",
    "    ext = os.path.splitext(path)[1]\n",
    "    if ext.lower() in IMG_EXTENSIONS:\n",
    "        return True\n",
    "    return False\n",
    "\n",
    "def list_image_folder(root):\n",
    "    images = []\n",
    "    dir = os.path.expanduser(root)\n",
    "    for target in sorted(os.listdir(dir)):\n",
    "        d = os.path.join(dir, target)\n",
    "        if os.path.isdir(d):\n",
    "            continue\n",
    "        if has_image_ext(d):\n",
    "            images.append(d)\n",
    "    return images\n",
    "\n",
    "def safe_pil_loader(path, from_memory=False):\n",
    "    try:\n",
    "        if from_memory:\n",
    "            img = Image.open(path)\n",
    "            res = img.convert('RGB')\n",
    "        else:\n",
    "            with open(path, 'rb') as f:\n",
    "                img = Image.open(f)\n",
    "                res = img.convert('RGB')\n",
    "    except:\n",
    "        res = Image.new('RGB', (299, 299), color=0)\n",
    "    return res\n",
    "\n",
    "class ImageTestFolder(torch.utils.data.Dataset):\n",
    "    def __init__(self, root, transform):\n",
    "        self.root = root\n",
    "        self.loader = safe_pil_loader\n",
    "        self.transform = transform\n",
    "\n",
    "        self.samples = list_image_folder(root)\n",
    "\n",
    "    def __getitem__(self, index):\n",
    "        path = self.samples[index]\n",
    "        sample = self.loader(path)\n",
    "        sample = self.transform(sample)\n",
    "        return sample, path\n",
    "\n",
    "    def __len__(self):\n",
    "        return len(self.samples)\n",
    "    \n",
    "def get_image_reader(dirpath, transform, batch_size, workers=4):\n",
    "    image_reader = torch.utils.data.DataLoader(\n",
    "            ImageTestFolder(dirpath, transform),\n",
    "            batch_size=batch_size, shuffle=False,\n",
    "            num_workers=workers, pin_memory=True)\n",
    "    return image_reader"
   ]
  },
  {
   "cell_type": "code",
   "execution_count": 47,
   "metadata": {
    "collapsed": true
   },
   "outputs": [],
   "source": [
    "def generate(enc, dec, feats, L=20):\n",
    "    enc.eval()\n",
    "    dec.eval()\n",
    "    with torch.no_grad():\n",
    "        hid_enc = enc(feats).unsqueeze(0)\n",
    "\n",
    "        # run the decoder step by step\n",
    "        dec_tensor = torch.zeros(feats.shape[0], L+1, dtype=torch.long)\n",
    "        dec_tensor = dec_tensor.to(device)\n",
    "        last_enc = hid_enc\n",
    "        for i in range(L):\n",
    "            out_dec, hid_dec = dec.forward(dec_tensor[:,i].unsqueeze(1), last_enc)\n",
    "            chosen = torch.argmax(out_dec[:,0],dim=1)\n",
    "            dec_tensor[:, i+1] = chosen\n",
    "            last_enc = hid_dec\n",
    "    \n",
    "    return dec_tensor.data.cpu().numpy()"
   ]
  },
  {
   "cell_type": "code",
   "execution_count": 50,
   "metadata": {},
   "outputs": [],
   "source": [
    "# main\n",
    "setup_data = setup_test()\n",
    "\n",
    "enc = setup_data['enc']\n",
    "dec = setup_data['dec']\n",
    "cnn = setup_data['cnn']\n",
    "trans = setup_data['trans']\n",
    "loaded_state = setup_data['loaded_state']"
   ]
  },
  {
   "cell_type": "code",
   "execution_count": 58,
   "metadata": {},
   "outputs": [
    {
     "name": "stdout",
     "output_type": "stream",
     "text": [
      "batch_feats_tensor:  torch.Size([3, 2048])\n",
      "dec_tensor:  (3, 21)\n",
      "untok: [['manNOUNNOUNNOUN', 'FRAMENETPosture', 'tennisNOUNNOUNNOUN', 'courtNOUNNOUNNOUN', 'FRAMENETContaining', 'racquetNOUNNOUNNOUN'], ['manNOUNNOUNNOUN', 'FRAMENETPosture', 'fieldNOUNNOUNNOUN'], ['bearNOUNNOUNNOUN', 'FRAMENETPlacing', 'topNOUNNOUNNOUN']]\n"
     ]
    }
   ],
   "source": [
    "img_reader = get_image_reader(test_folder, trans, BATCH_SIZE)\n",
    "using_images = True\n",
    "\n",
    "all_text = []\n",
    "for input_, text_data in img_reader:\n",
    "    \"\"\"\n",
    "    input: [batch, 3, 299, 299]\n",
    "    text_data: list of img path(include file), \n",
    "    \"\"\"\n",
    "    input_ = input_.to(device)\n",
    "    with torch.no_grad():\n",
    "        batch_feats_tensor = cnn(input_)  # [batch, 2048]\n",
    "    print(\"batch_feats_tensor: \", batch_feats_tensor.shape)\n",
    "    dec_tensor = generate(enc, dec, batch_feats_tensor)  # [batch, 21]\n",
    "    print(\"dec_tensor: \",dec_tensor.shape)\n",
    "    untok = []  # save the word\n",
    "    for i in range(dec_tensor.shape[0]):\n",
    "        untok.append(untokenize(dec_tensor[i], \n",
    "                                loaded_state['dec_idx_to_word'], \n",
    "                                to_text=False))\n",
    "    print(\"untok:\", untok)\n",
    "    # then, send untok to seq2seq\n",
    "    break"
   ]
  },
  {
   "cell_type": "code",
   "execution_count": null,
   "metadata": {
    "collapsed": true
   },
   "outputs": [],
   "source": []
  }
 ],
 "metadata": {
  "kernelspec": {
   "display_name": "Python 3",
   "language": "python",
   "name": "python3"
  },
  "language_info": {
   "codemirror_mode": {
    "name": "ipython",
    "version": 3
   },
   "file_extension": ".py",
   "mimetype": "text/x-python",
   "name": "python",
   "nbconvert_exporter": "python",
   "pygments_lexer": "ipython3",
   "version": "3.6.4"
  }
 },
 "nbformat": 4,
 "nbformat_minor": 2
}
